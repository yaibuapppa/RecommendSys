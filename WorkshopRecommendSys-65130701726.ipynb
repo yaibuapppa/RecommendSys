{
 "cells": [
  {
   "cell_type": "markdown",
   "id": "546f779e-b0f6-477e-8234-3dde1bdfa039",
   "metadata": {},
   "source": [
    "# Workshop: Recommender Systems"
   ]
  },
  {
   "cell_type": "markdown",
   "id": "c7ea86e1-049f-489b-a231-47c961964986",
   "metadata": {},
   "source": [
    "<div>\n",
    "<img src=\"https://developer-blogs.nvidia.com/wp-content/uploads/2021/04/Whats-recommendation-system_Pic-2.png\" width=\"590\"/> \n",
    "<img src=\"https://developer-blogs.nvidia.com/wp-content/uploads/2021/04/whats-recommendation_Pic0.png\" width=\"500\"/>\n",
    "</div>\n",
    "\n",
    "\n",
    "Image sources: https://www.nvidia.com/en-us/glossary/data-science/recommendation-system/"
   ]
  },
  {
   "cell_type": "markdown",
   "id": "1a5e694b-8af1-43b3-8a0c-1068f3e0c6e6",
   "metadata": {
    "tags": []
   },
   "source": [
    "\n",
    "<div>\n",
    "<img src=\"https://storage.googleapis.com/lds-media/images/cosine-similarity-vectors.original.jpg\" width=\"700\"/> \n",
    "       \n",
    " <br>\n",
    "<img src=\"https://www.oreilly.com/api/v2/epubs/9781788993753/files/assets/848e2bba-80ee-4352-94ed-ddbc3997b56a.png\" width=\"300\"/>\n",
    "    \n",
    "<br>\n",
    "<img src=\"http://researchdatapod.com/wp-content/uploads/2021/11/Screenshot-2021-11-27-at-16.01.30-1024x354.png\" width=\"600\"/>\n",
    "</div>\n",
    "\n",
    "\n"
   ]
  },
  {
   "cell_type": "markdown",
   "id": "806eb348-81b1-4a74-b5e7-39019c82b8f8",
   "metadata": {},
   "source": [
    "## Read Data"
   ]
  },
  {
   "cell_type": "code",
   "execution_count": 1,
   "id": "4adddb27-dd96-48d9-95d6-7af2d9913518",
   "metadata": {
    "tags": []
   },
   "outputs": [],
   "source": [
    "import pandas as pd\n",
    "# Load the MovieLens dataset (you can download it from https://grouplens.org/datasets/movielens/)\n",
    "# For this example, we'll use the small dataset\n",
    "movies = pd.read_csv('ml-latest-small/movies.csv')\n",
    "ratings = pd.read_csv('ml-latest-small/ratings.csv')"
   ]
  },
  {
   "cell_type": "code",
   "execution_count": 2,
   "id": "e0dd0d8a-256e-40b2-b6cb-ce7b54ce3dfb",
   "metadata": {
    "tags": []
   },
   "outputs": [
    {
     "data": {
      "text/html": [
       "<div>\n",
       "<style scoped>\n",
       "    .dataframe tbody tr th:only-of-type {\n",
       "        vertical-align: middle;\n",
       "    }\n",
       "\n",
       "    .dataframe tbody tr th {\n",
       "        vertical-align: top;\n",
       "    }\n",
       "\n",
       "    .dataframe thead th {\n",
       "        text-align: right;\n",
       "    }\n",
       "</style>\n",
       "<table border=\"1\" class=\"dataframe\">\n",
       "  <thead>\n",
       "    <tr style=\"text-align: right;\">\n",
       "      <th></th>\n",
       "      <th>movieId</th>\n",
       "      <th>title</th>\n",
       "      <th>genres</th>\n",
       "    </tr>\n",
       "  </thead>\n",
       "  <tbody>\n",
       "    <tr>\n",
       "      <th>0</th>\n",
       "      <td>1</td>\n",
       "      <td>Toy Story (1995)</td>\n",
       "      <td>Adventure|Animation|Children|Comedy|Fantasy</td>\n",
       "    </tr>\n",
       "    <tr>\n",
       "      <th>1</th>\n",
       "      <td>2</td>\n",
       "      <td>Jumanji (1995)</td>\n",
       "      <td>Adventure|Children|Fantasy</td>\n",
       "    </tr>\n",
       "    <tr>\n",
       "      <th>2</th>\n",
       "      <td>3</td>\n",
       "      <td>Grumpier Old Men (1995)</td>\n",
       "      <td>Comedy|Romance</td>\n",
       "    </tr>\n",
       "    <tr>\n",
       "      <th>3</th>\n",
       "      <td>4</td>\n",
       "      <td>Waiting to Exhale (1995)</td>\n",
       "      <td>Comedy|Drama|Romance</td>\n",
       "    </tr>\n",
       "    <tr>\n",
       "      <th>4</th>\n",
       "      <td>5</td>\n",
       "      <td>Father of the Bride Part II (1995)</td>\n",
       "      <td>Comedy</td>\n",
       "    </tr>\n",
       "  </tbody>\n",
       "</table>\n",
       "</div>"
      ],
      "text/plain": [
       "   movieId                               title  \\\n",
       "0        1                    Toy Story (1995)   \n",
       "1        2                      Jumanji (1995)   \n",
       "2        3             Grumpier Old Men (1995)   \n",
       "3        4            Waiting to Exhale (1995)   \n",
       "4        5  Father of the Bride Part II (1995)   \n",
       "\n",
       "                                        genres  \n",
       "0  Adventure|Animation|Children|Comedy|Fantasy  \n",
       "1                   Adventure|Children|Fantasy  \n",
       "2                               Comedy|Romance  \n",
       "3                         Comedy|Drama|Romance  \n",
       "4                                       Comedy  "
      ]
     },
     "execution_count": 2,
     "metadata": {},
     "output_type": "execute_result"
    }
   ],
   "source": [
    "movies.head()"
   ]
  },
  {
   "cell_type": "code",
   "execution_count": 3,
   "id": "950a0e51-f011-42f0-add2-b08a96013d9a",
   "metadata": {
    "tags": []
   },
   "outputs": [
    {
     "data": {
      "text/html": [
       "<div>\n",
       "<style scoped>\n",
       "    .dataframe tbody tr th:only-of-type {\n",
       "        vertical-align: middle;\n",
       "    }\n",
       "\n",
       "    .dataframe tbody tr th {\n",
       "        vertical-align: top;\n",
       "    }\n",
       "\n",
       "    .dataframe thead th {\n",
       "        text-align: right;\n",
       "    }\n",
       "</style>\n",
       "<table border=\"1\" class=\"dataframe\">\n",
       "  <thead>\n",
       "    <tr style=\"text-align: right;\">\n",
       "      <th></th>\n",
       "      <th>userId</th>\n",
       "      <th>movieId</th>\n",
       "      <th>rating</th>\n",
       "      <th>timestamp</th>\n",
       "    </tr>\n",
       "  </thead>\n",
       "  <tbody>\n",
       "    <tr>\n",
       "      <th>0</th>\n",
       "      <td>1</td>\n",
       "      <td>1</td>\n",
       "      <td>4.0</td>\n",
       "      <td>964982703</td>\n",
       "    </tr>\n",
       "    <tr>\n",
       "      <th>1</th>\n",
       "      <td>1</td>\n",
       "      <td>3</td>\n",
       "      <td>4.0</td>\n",
       "      <td>964981247</td>\n",
       "    </tr>\n",
       "    <tr>\n",
       "      <th>2</th>\n",
       "      <td>1</td>\n",
       "      <td>6</td>\n",
       "      <td>4.0</td>\n",
       "      <td>964982224</td>\n",
       "    </tr>\n",
       "    <tr>\n",
       "      <th>3</th>\n",
       "      <td>1</td>\n",
       "      <td>47</td>\n",
       "      <td>5.0</td>\n",
       "      <td>964983815</td>\n",
       "    </tr>\n",
       "    <tr>\n",
       "      <th>4</th>\n",
       "      <td>1</td>\n",
       "      <td>50</td>\n",
       "      <td>5.0</td>\n",
       "      <td>964982931</td>\n",
       "    </tr>\n",
       "  </tbody>\n",
       "</table>\n",
       "</div>"
      ],
      "text/plain": [
       "   userId  movieId  rating  timestamp\n",
       "0       1        1     4.0  964982703\n",
       "1       1        3     4.0  964981247\n",
       "2       1        6     4.0  964982224\n",
       "3       1       47     5.0  964983815\n",
       "4       1       50     5.0  964982931"
      ]
     },
     "execution_count": 3,
     "metadata": {},
     "output_type": "execute_result"
    }
   ],
   "source": [
    "ratings.head()"
   ]
  },
  {
   "cell_type": "code",
   "execution_count": 4,
   "id": "2f07c382-6837-494f-acc9-7d676577121d",
   "metadata": {
    "tags": []
   },
   "outputs": [
    {
     "name": "stdout",
     "output_type": "stream",
     "text": [
      "(100836, 4)\n",
      "(9742, 3)\n"
     ]
    }
   ],
   "source": [
    "print(ratings.shape)\n",
    "print(movies.shape)"
   ]
  },
  {
   "cell_type": "markdown",
   "id": "554f6f32-4220-4455-9b98-94e2e3fcb38b",
   "metadata": {},
   "source": [
    "## Merge movies and ratings data"
   ]
  },
  {
   "cell_type": "code",
   "execution_count": 5,
   "id": "80becee6-568e-48a9-b77a-c0f09d82965a",
   "metadata": {
    "tags": []
   },
   "outputs": [
    {
     "name": "stdout",
     "output_type": "stream",
     "text": [
      "(100836, 6)\n"
     ]
    },
    {
     "data": {
      "text/html": [
       "<div>\n",
       "<style scoped>\n",
       "    .dataframe tbody tr th:only-of-type {\n",
       "        vertical-align: middle;\n",
       "    }\n",
       "\n",
       "    .dataframe tbody tr th {\n",
       "        vertical-align: top;\n",
       "    }\n",
       "\n",
       "    .dataframe thead th {\n",
       "        text-align: right;\n",
       "    }\n",
       "</style>\n",
       "<table border=\"1\" class=\"dataframe\">\n",
       "  <thead>\n",
       "    <tr style=\"text-align: right;\">\n",
       "      <th></th>\n",
       "      <th>userId</th>\n",
       "      <th>movieId</th>\n",
       "      <th>rating</th>\n",
       "      <th>timestamp</th>\n",
       "      <th>title</th>\n",
       "      <th>genres</th>\n",
       "    </tr>\n",
       "  </thead>\n",
       "  <tbody>\n",
       "    <tr>\n",
       "      <th>0</th>\n",
       "      <td>1</td>\n",
       "      <td>1</td>\n",
       "      <td>4.0</td>\n",
       "      <td>964982703</td>\n",
       "      <td>Toy Story (1995)</td>\n",
       "      <td>Adventure|Animation|Children|Comedy|Fantasy</td>\n",
       "    </tr>\n",
       "    <tr>\n",
       "      <th>1</th>\n",
       "      <td>5</td>\n",
       "      <td>1</td>\n",
       "      <td>4.0</td>\n",
       "      <td>847434962</td>\n",
       "      <td>Toy Story (1995)</td>\n",
       "      <td>Adventure|Animation|Children|Comedy|Fantasy</td>\n",
       "    </tr>\n",
       "    <tr>\n",
       "      <th>2</th>\n",
       "      <td>7</td>\n",
       "      <td>1</td>\n",
       "      <td>4.5</td>\n",
       "      <td>1106635946</td>\n",
       "      <td>Toy Story (1995)</td>\n",
       "      <td>Adventure|Animation|Children|Comedy|Fantasy</td>\n",
       "    </tr>\n",
       "    <tr>\n",
       "      <th>3</th>\n",
       "      <td>15</td>\n",
       "      <td>1</td>\n",
       "      <td>2.5</td>\n",
       "      <td>1510577970</td>\n",
       "      <td>Toy Story (1995)</td>\n",
       "      <td>Adventure|Animation|Children|Comedy|Fantasy</td>\n",
       "    </tr>\n",
       "    <tr>\n",
       "      <th>4</th>\n",
       "      <td>17</td>\n",
       "      <td>1</td>\n",
       "      <td>4.5</td>\n",
       "      <td>1305696483</td>\n",
       "      <td>Toy Story (1995)</td>\n",
       "      <td>Adventure|Animation|Children|Comedy|Fantasy</td>\n",
       "    </tr>\n",
       "  </tbody>\n",
       "</table>\n",
       "</div>"
      ],
      "text/plain": [
       "   userId  movieId  rating   timestamp             title  \\\n",
       "0       1        1     4.0   964982703  Toy Story (1995)   \n",
       "1       5        1     4.0   847434962  Toy Story (1995)   \n",
       "2       7        1     4.5  1106635946  Toy Story (1995)   \n",
       "3      15        1     2.5  1510577970  Toy Story (1995)   \n",
       "4      17        1     4.5  1305696483  Toy Story (1995)   \n",
       "\n",
       "                                        genres  \n",
       "0  Adventure|Animation|Children|Comedy|Fantasy  \n",
       "1  Adventure|Animation|Children|Comedy|Fantasy  \n",
       "2  Adventure|Animation|Children|Comedy|Fantasy  \n",
       "3  Adventure|Animation|Children|Comedy|Fantasy  \n",
       "4  Adventure|Animation|Children|Comedy|Fantasy  "
      ]
     },
     "execution_count": 5,
     "metadata": {},
     "output_type": "execute_result"
    }
   ],
   "source": [
    "movie_ratings = pd.merge(ratings, movies, on='movieId')\n",
    "print(movie_ratings.shape)\n",
    "movie_ratings.head()"
   ]
  },
  {
   "cell_type": "markdown",
   "id": "cd219f52-e356-4ae1-a45d-ce0245dd7491",
   "metadata": {},
   "source": [
    "## Create a user-item matrix"
   ]
  },
  {
   "cell_type": "code",
   "execution_count": 6,
   "id": "28f7e05c-1f93-4dec-9fa1-55150e8974f3",
   "metadata": {
    "tags": []
   },
   "outputs": [
    {
     "data": {
      "text/html": [
       "<div>\n",
       "<style scoped>\n",
       "    .dataframe tbody tr th:only-of-type {\n",
       "        vertical-align: middle;\n",
       "    }\n",
       "\n",
       "    .dataframe tbody tr th {\n",
       "        vertical-align: top;\n",
       "    }\n",
       "\n",
       "    .dataframe thead th {\n",
       "        text-align: right;\n",
       "    }\n",
       "</style>\n",
       "<table border=\"1\" class=\"dataframe\">\n",
       "  <thead>\n",
       "    <tr style=\"text-align: right;\">\n",
       "      <th>title</th>\n",
       "      <th>'71 (2014)</th>\n",
       "      <th>'Hellboy': The Seeds of Creation (2004)</th>\n",
       "      <th>'Round Midnight (1986)</th>\n",
       "      <th>'Salem's Lot (2004)</th>\n",
       "      <th>'Til There Was You (1997)</th>\n",
       "      <th>'Tis the Season for Love (2015)</th>\n",
       "      <th>'burbs, The (1989)</th>\n",
       "      <th>'night Mother (1986)</th>\n",
       "      <th>(500) Days of Summer (2009)</th>\n",
       "      <th>*batteries not included (1987)</th>\n",
       "      <th>...</th>\n",
       "      <th>Zulu (2013)</th>\n",
       "      <th>[REC] (2007)</th>\n",
       "      <th>[REC]² (2009)</th>\n",
       "      <th>[REC]³ 3 Génesis (2012)</th>\n",
       "      <th>anohana: The Flower We Saw That Day - The Movie (2013)</th>\n",
       "      <th>eXistenZ (1999)</th>\n",
       "      <th>xXx (2002)</th>\n",
       "      <th>xXx: State of the Union (2005)</th>\n",
       "      <th>¡Three Amigos! (1986)</th>\n",
       "      <th>À nous la liberté (Freedom for Us) (1931)</th>\n",
       "    </tr>\n",
       "    <tr>\n",
       "      <th>userId</th>\n",
       "      <th></th>\n",
       "      <th></th>\n",
       "      <th></th>\n",
       "      <th></th>\n",
       "      <th></th>\n",
       "      <th></th>\n",
       "      <th></th>\n",
       "      <th></th>\n",
       "      <th></th>\n",
       "      <th></th>\n",
       "      <th></th>\n",
       "      <th></th>\n",
       "      <th></th>\n",
       "      <th></th>\n",
       "      <th></th>\n",
       "      <th></th>\n",
       "      <th></th>\n",
       "      <th></th>\n",
       "      <th></th>\n",
       "      <th></th>\n",
       "      <th></th>\n",
       "    </tr>\n",
       "  </thead>\n",
       "  <tbody>\n",
       "    <tr>\n",
       "      <th>606</th>\n",
       "      <td>NaN</td>\n",
       "      <td>NaN</td>\n",
       "      <td>NaN</td>\n",
       "      <td>NaN</td>\n",
       "      <td>NaN</td>\n",
       "      <td>NaN</td>\n",
       "      <td>NaN</td>\n",
       "      <td>NaN</td>\n",
       "      <td>NaN</td>\n",
       "      <td>NaN</td>\n",
       "      <td>...</td>\n",
       "      <td>NaN</td>\n",
       "      <td>NaN</td>\n",
       "      <td>NaN</td>\n",
       "      <td>NaN</td>\n",
       "      <td>NaN</td>\n",
       "      <td>NaN</td>\n",
       "      <td>NaN</td>\n",
       "      <td>NaN</td>\n",
       "      <td>NaN</td>\n",
       "      <td>NaN</td>\n",
       "    </tr>\n",
       "    <tr>\n",
       "      <th>607</th>\n",
       "      <td>NaN</td>\n",
       "      <td>NaN</td>\n",
       "      <td>NaN</td>\n",
       "      <td>NaN</td>\n",
       "      <td>NaN</td>\n",
       "      <td>NaN</td>\n",
       "      <td>NaN</td>\n",
       "      <td>NaN</td>\n",
       "      <td>NaN</td>\n",
       "      <td>NaN</td>\n",
       "      <td>...</td>\n",
       "      <td>NaN</td>\n",
       "      <td>NaN</td>\n",
       "      <td>NaN</td>\n",
       "      <td>NaN</td>\n",
       "      <td>NaN</td>\n",
       "      <td>NaN</td>\n",
       "      <td>NaN</td>\n",
       "      <td>NaN</td>\n",
       "      <td>NaN</td>\n",
       "      <td>NaN</td>\n",
       "    </tr>\n",
       "    <tr>\n",
       "      <th>608</th>\n",
       "      <td>NaN</td>\n",
       "      <td>NaN</td>\n",
       "      <td>NaN</td>\n",
       "      <td>NaN</td>\n",
       "      <td>NaN</td>\n",
       "      <td>NaN</td>\n",
       "      <td>NaN</td>\n",
       "      <td>NaN</td>\n",
       "      <td>NaN</td>\n",
       "      <td>NaN</td>\n",
       "      <td>...</td>\n",
       "      <td>NaN</td>\n",
       "      <td>NaN</td>\n",
       "      <td>NaN</td>\n",
       "      <td>NaN</td>\n",
       "      <td>NaN</td>\n",
       "      <td>4.5</td>\n",
       "      <td>3.5</td>\n",
       "      <td>NaN</td>\n",
       "      <td>NaN</td>\n",
       "      <td>NaN</td>\n",
       "    </tr>\n",
       "    <tr>\n",
       "      <th>609</th>\n",
       "      <td>NaN</td>\n",
       "      <td>NaN</td>\n",
       "      <td>NaN</td>\n",
       "      <td>NaN</td>\n",
       "      <td>NaN</td>\n",
       "      <td>NaN</td>\n",
       "      <td>NaN</td>\n",
       "      <td>NaN</td>\n",
       "      <td>NaN</td>\n",
       "      <td>NaN</td>\n",
       "      <td>...</td>\n",
       "      <td>NaN</td>\n",
       "      <td>NaN</td>\n",
       "      <td>NaN</td>\n",
       "      <td>NaN</td>\n",
       "      <td>NaN</td>\n",
       "      <td>NaN</td>\n",
       "      <td>NaN</td>\n",
       "      <td>NaN</td>\n",
       "      <td>NaN</td>\n",
       "      <td>NaN</td>\n",
       "    </tr>\n",
       "    <tr>\n",
       "      <th>610</th>\n",
       "      <td>4.0</td>\n",
       "      <td>NaN</td>\n",
       "      <td>NaN</td>\n",
       "      <td>NaN</td>\n",
       "      <td>NaN</td>\n",
       "      <td>NaN</td>\n",
       "      <td>NaN</td>\n",
       "      <td>NaN</td>\n",
       "      <td>3.5</td>\n",
       "      <td>NaN</td>\n",
       "      <td>...</td>\n",
       "      <td>NaN</td>\n",
       "      <td>4.0</td>\n",
       "      <td>3.5</td>\n",
       "      <td>3.0</td>\n",
       "      <td>NaN</td>\n",
       "      <td>NaN</td>\n",
       "      <td>2.0</td>\n",
       "      <td>1.5</td>\n",
       "      <td>NaN</td>\n",
       "      <td>NaN</td>\n",
       "    </tr>\n",
       "  </tbody>\n",
       "</table>\n",
       "<p>5 rows × 9719 columns</p>\n",
       "</div>"
      ],
      "text/plain": [
       "title   '71 (2014)  'Hellboy': The Seeds of Creation (2004)  \\\n",
       "userId                                                        \n",
       "606            NaN                                      NaN   \n",
       "607            NaN                                      NaN   \n",
       "608            NaN                                      NaN   \n",
       "609            NaN                                      NaN   \n",
       "610            4.0                                      NaN   \n",
       "\n",
       "title   'Round Midnight (1986)  'Salem's Lot (2004)  \\\n",
       "userId                                                \n",
       "606                        NaN                  NaN   \n",
       "607                        NaN                  NaN   \n",
       "608                        NaN                  NaN   \n",
       "609                        NaN                  NaN   \n",
       "610                        NaN                  NaN   \n",
       "\n",
       "title   'Til There Was You (1997)  'Tis the Season for Love (2015)  \\\n",
       "userId                                                               \n",
       "606                           NaN                              NaN   \n",
       "607                           NaN                              NaN   \n",
       "608                           NaN                              NaN   \n",
       "609                           NaN                              NaN   \n",
       "610                           NaN                              NaN   \n",
       "\n",
       "title   'burbs, The (1989)  'night Mother (1986)  (500) Days of Summer (2009)  \\\n",
       "userId                                                                          \n",
       "606                    NaN                   NaN                          NaN   \n",
       "607                    NaN                   NaN                          NaN   \n",
       "608                    NaN                   NaN                          NaN   \n",
       "609                    NaN                   NaN                          NaN   \n",
       "610                    NaN                   NaN                          3.5   \n",
       "\n",
       "title   *batteries not included (1987)  ...  Zulu (2013)  [REC] (2007)  \\\n",
       "userId                                  ...                              \n",
       "606                                NaN  ...          NaN           NaN   \n",
       "607                                NaN  ...          NaN           NaN   \n",
       "608                                NaN  ...          NaN           NaN   \n",
       "609                                NaN  ...          NaN           NaN   \n",
       "610                                NaN  ...          NaN           4.0   \n",
       "\n",
       "title   [REC]² (2009)  [REC]³ 3 Génesis (2012)  \\\n",
       "userId                                           \n",
       "606               NaN                      NaN   \n",
       "607               NaN                      NaN   \n",
       "608               NaN                      NaN   \n",
       "609               NaN                      NaN   \n",
       "610               3.5                      3.0   \n",
       "\n",
       "title   anohana: The Flower We Saw That Day - The Movie (2013)  \\\n",
       "userId                                                           \n",
       "606                                                   NaN        \n",
       "607                                                   NaN        \n",
       "608                                                   NaN        \n",
       "609                                                   NaN        \n",
       "610                                                   NaN        \n",
       "\n",
       "title   eXistenZ (1999)  xXx (2002)  xXx: State of the Union (2005)  \\\n",
       "userId                                                                \n",
       "606                 NaN         NaN                             NaN   \n",
       "607                 NaN         NaN                             NaN   \n",
       "608                 4.5         3.5                             NaN   \n",
       "609                 NaN         NaN                             NaN   \n",
       "610                 NaN         2.0                             1.5   \n",
       "\n",
       "title   ¡Three Amigos! (1986)  À nous la liberté (Freedom for Us) (1931)  \n",
       "userId                                                                    \n",
       "606                       NaN                                        NaN  \n",
       "607                       NaN                                        NaN  \n",
       "608                       NaN                                        NaN  \n",
       "609                       NaN                                        NaN  \n",
       "610                       NaN                                        NaN  \n",
       "\n",
       "[5 rows x 9719 columns]"
      ]
     },
     "execution_count": 6,
     "metadata": {},
     "output_type": "execute_result"
    }
   ],
   "source": [
    "user_movie_ratings = movie_ratings.pivot_table(index='userId', columns='title', values='rating')\n",
    "user_movie_ratings.tail()"
   ]
  },
  {
   "cell_type": "markdown",
   "id": "ea3ccc1e-8f87-4f33-a605-39a170c0a810",
   "metadata": {
    "tags": []
   },
   "source": [
    "### Fill NaN values with 0 (assuming no rating means a rating of 0)"
   ]
  },
  {
   "cell_type": "code",
   "execution_count": 7,
   "id": "a0a8b344-51cf-4e85-8b52-5fbecf87f935",
   "metadata": {
    "tags": []
   },
   "outputs": [
    {
     "data": {
      "text/html": [
       "<div>\n",
       "<style scoped>\n",
       "    .dataframe tbody tr th:only-of-type {\n",
       "        vertical-align: middle;\n",
       "    }\n",
       "\n",
       "    .dataframe tbody tr th {\n",
       "        vertical-align: top;\n",
       "    }\n",
       "\n",
       "    .dataframe thead th {\n",
       "        text-align: right;\n",
       "    }\n",
       "</style>\n",
       "<table border=\"1\" class=\"dataframe\">\n",
       "  <thead>\n",
       "    <tr style=\"text-align: right;\">\n",
       "      <th>title</th>\n",
       "      <th>'71 (2014)</th>\n",
       "      <th>'Hellboy': The Seeds of Creation (2004)</th>\n",
       "      <th>'Round Midnight (1986)</th>\n",
       "      <th>'Salem's Lot (2004)</th>\n",
       "      <th>'Til There Was You (1997)</th>\n",
       "      <th>'Tis the Season for Love (2015)</th>\n",
       "      <th>'burbs, The (1989)</th>\n",
       "      <th>'night Mother (1986)</th>\n",
       "      <th>(500) Days of Summer (2009)</th>\n",
       "      <th>*batteries not included (1987)</th>\n",
       "      <th>...</th>\n",
       "      <th>Zulu (2013)</th>\n",
       "      <th>[REC] (2007)</th>\n",
       "      <th>[REC]² (2009)</th>\n",
       "      <th>[REC]³ 3 Génesis (2012)</th>\n",
       "      <th>anohana: The Flower We Saw That Day - The Movie (2013)</th>\n",
       "      <th>eXistenZ (1999)</th>\n",
       "      <th>xXx (2002)</th>\n",
       "      <th>xXx: State of the Union (2005)</th>\n",
       "      <th>¡Three Amigos! (1986)</th>\n",
       "      <th>À nous la liberté (Freedom for Us) (1931)</th>\n",
       "    </tr>\n",
       "    <tr>\n",
       "      <th>userId</th>\n",
       "      <th></th>\n",
       "      <th></th>\n",
       "      <th></th>\n",
       "      <th></th>\n",
       "      <th></th>\n",
       "      <th></th>\n",
       "      <th></th>\n",
       "      <th></th>\n",
       "      <th></th>\n",
       "      <th></th>\n",
       "      <th></th>\n",
       "      <th></th>\n",
       "      <th></th>\n",
       "      <th></th>\n",
       "      <th></th>\n",
       "      <th></th>\n",
       "      <th></th>\n",
       "      <th></th>\n",
       "      <th></th>\n",
       "      <th></th>\n",
       "      <th></th>\n",
       "    </tr>\n",
       "  </thead>\n",
       "  <tbody>\n",
       "    <tr>\n",
       "      <th>606</th>\n",
       "      <td>0.0</td>\n",
       "      <td>0.0</td>\n",
       "      <td>0.0</td>\n",
       "      <td>0.0</td>\n",
       "      <td>0.0</td>\n",
       "      <td>0.0</td>\n",
       "      <td>0.0</td>\n",
       "      <td>0.0</td>\n",
       "      <td>0.0</td>\n",
       "      <td>0.0</td>\n",
       "      <td>...</td>\n",
       "      <td>0.0</td>\n",
       "      <td>0.0</td>\n",
       "      <td>0.0</td>\n",
       "      <td>0.0</td>\n",
       "      <td>0.0</td>\n",
       "      <td>0.0</td>\n",
       "      <td>0.0</td>\n",
       "      <td>0.0</td>\n",
       "      <td>0.0</td>\n",
       "      <td>0.0</td>\n",
       "    </tr>\n",
       "    <tr>\n",
       "      <th>607</th>\n",
       "      <td>0.0</td>\n",
       "      <td>0.0</td>\n",
       "      <td>0.0</td>\n",
       "      <td>0.0</td>\n",
       "      <td>0.0</td>\n",
       "      <td>0.0</td>\n",
       "      <td>0.0</td>\n",
       "      <td>0.0</td>\n",
       "      <td>0.0</td>\n",
       "      <td>0.0</td>\n",
       "      <td>...</td>\n",
       "      <td>0.0</td>\n",
       "      <td>0.0</td>\n",
       "      <td>0.0</td>\n",
       "      <td>0.0</td>\n",
       "      <td>0.0</td>\n",
       "      <td>0.0</td>\n",
       "      <td>0.0</td>\n",
       "      <td>0.0</td>\n",
       "      <td>0.0</td>\n",
       "      <td>0.0</td>\n",
       "    </tr>\n",
       "    <tr>\n",
       "      <th>608</th>\n",
       "      <td>0.0</td>\n",
       "      <td>0.0</td>\n",
       "      <td>0.0</td>\n",
       "      <td>0.0</td>\n",
       "      <td>0.0</td>\n",
       "      <td>0.0</td>\n",
       "      <td>0.0</td>\n",
       "      <td>0.0</td>\n",
       "      <td>0.0</td>\n",
       "      <td>0.0</td>\n",
       "      <td>...</td>\n",
       "      <td>0.0</td>\n",
       "      <td>0.0</td>\n",
       "      <td>0.0</td>\n",
       "      <td>0.0</td>\n",
       "      <td>0.0</td>\n",
       "      <td>4.5</td>\n",
       "      <td>3.5</td>\n",
       "      <td>0.0</td>\n",
       "      <td>0.0</td>\n",
       "      <td>0.0</td>\n",
       "    </tr>\n",
       "    <tr>\n",
       "      <th>609</th>\n",
       "      <td>0.0</td>\n",
       "      <td>0.0</td>\n",
       "      <td>0.0</td>\n",
       "      <td>0.0</td>\n",
       "      <td>0.0</td>\n",
       "      <td>0.0</td>\n",
       "      <td>0.0</td>\n",
       "      <td>0.0</td>\n",
       "      <td>0.0</td>\n",
       "      <td>0.0</td>\n",
       "      <td>...</td>\n",
       "      <td>0.0</td>\n",
       "      <td>0.0</td>\n",
       "      <td>0.0</td>\n",
       "      <td>0.0</td>\n",
       "      <td>0.0</td>\n",
       "      <td>0.0</td>\n",
       "      <td>0.0</td>\n",
       "      <td>0.0</td>\n",
       "      <td>0.0</td>\n",
       "      <td>0.0</td>\n",
       "    </tr>\n",
       "    <tr>\n",
       "      <th>610</th>\n",
       "      <td>4.0</td>\n",
       "      <td>0.0</td>\n",
       "      <td>0.0</td>\n",
       "      <td>0.0</td>\n",
       "      <td>0.0</td>\n",
       "      <td>0.0</td>\n",
       "      <td>0.0</td>\n",
       "      <td>0.0</td>\n",
       "      <td>3.5</td>\n",
       "      <td>0.0</td>\n",
       "      <td>...</td>\n",
       "      <td>0.0</td>\n",
       "      <td>4.0</td>\n",
       "      <td>3.5</td>\n",
       "      <td>3.0</td>\n",
       "      <td>0.0</td>\n",
       "      <td>0.0</td>\n",
       "      <td>2.0</td>\n",
       "      <td>1.5</td>\n",
       "      <td>0.0</td>\n",
       "      <td>0.0</td>\n",
       "    </tr>\n",
       "  </tbody>\n",
       "</table>\n",
       "<p>5 rows × 9719 columns</p>\n",
       "</div>"
      ],
      "text/plain": [
       "title   '71 (2014)  'Hellboy': The Seeds of Creation (2004)  \\\n",
       "userId                                                        \n",
       "606            0.0                                      0.0   \n",
       "607            0.0                                      0.0   \n",
       "608            0.0                                      0.0   \n",
       "609            0.0                                      0.0   \n",
       "610            4.0                                      0.0   \n",
       "\n",
       "title   'Round Midnight (1986)  'Salem's Lot (2004)  \\\n",
       "userId                                                \n",
       "606                        0.0                  0.0   \n",
       "607                        0.0                  0.0   \n",
       "608                        0.0                  0.0   \n",
       "609                        0.0                  0.0   \n",
       "610                        0.0                  0.0   \n",
       "\n",
       "title   'Til There Was You (1997)  'Tis the Season for Love (2015)  \\\n",
       "userId                                                               \n",
       "606                           0.0                              0.0   \n",
       "607                           0.0                              0.0   \n",
       "608                           0.0                              0.0   \n",
       "609                           0.0                              0.0   \n",
       "610                           0.0                              0.0   \n",
       "\n",
       "title   'burbs, The (1989)  'night Mother (1986)  (500) Days of Summer (2009)  \\\n",
       "userId                                                                          \n",
       "606                    0.0                   0.0                          0.0   \n",
       "607                    0.0                   0.0                          0.0   \n",
       "608                    0.0                   0.0                          0.0   \n",
       "609                    0.0                   0.0                          0.0   \n",
       "610                    0.0                   0.0                          3.5   \n",
       "\n",
       "title   *batteries not included (1987)  ...  Zulu (2013)  [REC] (2007)  \\\n",
       "userId                                  ...                              \n",
       "606                                0.0  ...          0.0           0.0   \n",
       "607                                0.0  ...          0.0           0.0   \n",
       "608                                0.0  ...          0.0           0.0   \n",
       "609                                0.0  ...          0.0           0.0   \n",
       "610                                0.0  ...          0.0           4.0   \n",
       "\n",
       "title   [REC]² (2009)  [REC]³ 3 Génesis (2012)  \\\n",
       "userId                                           \n",
       "606               0.0                      0.0   \n",
       "607               0.0                      0.0   \n",
       "608               0.0                      0.0   \n",
       "609               0.0                      0.0   \n",
       "610               3.5                      3.0   \n",
       "\n",
       "title   anohana: The Flower We Saw That Day - The Movie (2013)  \\\n",
       "userId                                                           \n",
       "606                                                   0.0        \n",
       "607                                                   0.0        \n",
       "608                                                   0.0        \n",
       "609                                                   0.0        \n",
       "610                                                   0.0        \n",
       "\n",
       "title   eXistenZ (1999)  xXx (2002)  xXx: State of the Union (2005)  \\\n",
       "userId                                                                \n",
       "606                 0.0         0.0                             0.0   \n",
       "607                 0.0         0.0                             0.0   \n",
       "608                 4.5         3.5                             0.0   \n",
       "609                 0.0         0.0                             0.0   \n",
       "610                 0.0         2.0                             1.5   \n",
       "\n",
       "title   ¡Three Amigos! (1986)  À nous la liberté (Freedom for Us) (1931)  \n",
       "userId                                                                    \n",
       "606                       0.0                                        0.0  \n",
       "607                       0.0                                        0.0  \n",
       "608                       0.0                                        0.0  \n",
       "609                       0.0                                        0.0  \n",
       "610                       0.0                                        0.0  \n",
       "\n",
       "[5 rows x 9719 columns]"
      ]
     },
     "execution_count": 7,
     "metadata": {},
     "output_type": "execute_result"
    }
   ],
   "source": [
    "user_movie_ratings = user_movie_ratings.fillna(0)\n",
    "user_movie_ratings.tail()"
   ]
  },
  {
   "cell_type": "code",
   "execution_count": 8,
   "id": "c1f3cbac-a11a-4319-9835-ab74510cfbae",
   "metadata": {
    "tags": []
   },
   "outputs": [
    {
     "data": {
      "text/plain": [
       "Int64Index([  1,   2,   3,   4,   5,   6,   7,   8,   9,  10,\n",
       "            ...\n",
       "            601, 602, 603, 604, 605, 606, 607, 608, 609, 610],\n",
       "           dtype='int64', name='userId', length=610)"
      ]
     },
     "execution_count": 8,
     "metadata": {},
     "output_type": "execute_result"
    }
   ],
   "source": [
    "user_movie_ratings.index"
   ]
  },
  {
   "cell_type": "markdown",
   "id": "9a5f8a59-4cc6-4910-a100-2f6155d2a499",
   "metadata": {},
   "source": [
    "## Calculate cosine similarity between users"
   ]
  },
  {
   "cell_type": "code",
   "execution_count": 9,
   "id": "c2a5eacf-e3c1-49e3-a3a2-fe087ebe00f8",
   "metadata": {
    "tags": []
   },
   "outputs": [],
   "source": [
    "from sklearn.metrics.pairwise import cosine_similarity\n",
    "\n",
    "user_similarity = cosine_similarity(user_movie_ratings)"
   ]
  },
  {
   "cell_type": "code",
   "execution_count": 10,
   "id": "20a201fd-0ad5-4aa4-8b7c-de94b7aaf0f8",
   "metadata": {
    "tags": []
   },
   "outputs": [
    {
     "data": {
      "text/plain": [
       "array([[1.        , 0.02728287, 0.05972026, ..., 0.29109737, 0.09357193,\n",
       "        0.14532081],\n",
       "       [0.02728287, 1.        , 0.        , ..., 0.04621095, 0.0275654 ,\n",
       "        0.10242675],\n",
       "       [0.05972026, 0.        , 1.        , ..., 0.02112846, 0.        ,\n",
       "        0.03211875],\n",
       "       ...,\n",
       "       [0.29109737, 0.04621095, 0.02112846, ..., 1.        , 0.12199271,\n",
       "        0.32205486],\n",
       "       [0.09357193, 0.0275654 , 0.        , ..., 0.12199271, 1.        ,\n",
       "        0.05322546],\n",
       "       [0.14532081, 0.10242675, 0.03211875, ..., 0.32205486, 0.05322546,\n",
       "        1.        ]])"
      ]
     },
     "execution_count": 10,
     "metadata": {},
     "output_type": "execute_result"
    }
   ],
   "source": [
    "user_similarity"
   ]
  },
  {
   "cell_type": "code",
   "execution_count": 11,
   "id": "42279556-5226-4cc3-8bd2-b0c19d02e3a9",
   "metadata": {
    "tags": []
   },
   "outputs": [
    {
     "data": {
      "text/plain": [
       "(610, 610)"
      ]
     },
     "execution_count": 11,
     "metadata": {},
     "output_type": "execute_result"
    }
   ],
   "source": [
    "user_similarity.shape"
   ]
  },
  {
   "cell_type": "markdown",
   "id": "29924e6e-9cb3-43bc-b2a2-c7b6b200349e",
   "metadata": {},
   "source": [
    "### Convert the similarity matrix into a DataFrame"
   ]
  },
  {
   "cell_type": "code",
   "execution_count": 12,
   "id": "8a33812f-b6c8-4f1f-b446-3ab99ecbe153",
   "metadata": {
    "tags": []
   },
   "outputs": [],
   "source": [
    "\n",
    "user_similarity_df = pd.DataFrame(user_similarity, index=user_movie_ratings.index, columns=user_movie_ratings.index)"
   ]
  },
  {
   "cell_type": "code",
   "execution_count": 13,
   "id": "2aa63a7c-04be-4f85-a3fa-165c09196785",
   "metadata": {
    "tags": []
   },
   "outputs": [
    {
     "data": {
      "text/html": [
       "<div>\n",
       "<style scoped>\n",
       "    .dataframe tbody tr th:only-of-type {\n",
       "        vertical-align: middle;\n",
       "    }\n",
       "\n",
       "    .dataframe tbody tr th {\n",
       "        vertical-align: top;\n",
       "    }\n",
       "\n",
       "    .dataframe thead th {\n",
       "        text-align: right;\n",
       "    }\n",
       "</style>\n",
       "<table border=\"1\" class=\"dataframe\">\n",
       "  <thead>\n",
       "    <tr style=\"text-align: right;\">\n",
       "      <th>userId</th>\n",
       "      <th>1</th>\n",
       "      <th>2</th>\n",
       "      <th>3</th>\n",
       "      <th>4</th>\n",
       "      <th>5</th>\n",
       "      <th>6</th>\n",
       "      <th>7</th>\n",
       "      <th>8</th>\n",
       "      <th>9</th>\n",
       "      <th>10</th>\n",
       "      <th>...</th>\n",
       "      <th>601</th>\n",
       "      <th>602</th>\n",
       "      <th>603</th>\n",
       "      <th>604</th>\n",
       "      <th>605</th>\n",
       "      <th>606</th>\n",
       "      <th>607</th>\n",
       "      <th>608</th>\n",
       "      <th>609</th>\n",
       "      <th>610</th>\n",
       "    </tr>\n",
       "    <tr>\n",
       "      <th>userId</th>\n",
       "      <th></th>\n",
       "      <th></th>\n",
       "      <th></th>\n",
       "      <th></th>\n",
       "      <th></th>\n",
       "      <th></th>\n",
       "      <th></th>\n",
       "      <th></th>\n",
       "      <th></th>\n",
       "      <th></th>\n",
       "      <th></th>\n",
       "      <th></th>\n",
       "      <th></th>\n",
       "      <th></th>\n",
       "      <th></th>\n",
       "      <th></th>\n",
       "      <th></th>\n",
       "      <th></th>\n",
       "      <th></th>\n",
       "      <th></th>\n",
       "      <th></th>\n",
       "    </tr>\n",
       "  </thead>\n",
       "  <tbody>\n",
       "    <tr>\n",
       "      <th>1</th>\n",
       "      <td>1.000000</td>\n",
       "      <td>0.027283</td>\n",
       "      <td>0.05972</td>\n",
       "      <td>0.194395</td>\n",
       "      <td>0.129080</td>\n",
       "      <td>0.128152</td>\n",
       "      <td>0.158744</td>\n",
       "      <td>0.136968</td>\n",
       "      <td>0.064263</td>\n",
       "      <td>0.016875</td>\n",
       "      <td>...</td>\n",
       "      <td>0.080554</td>\n",
       "      <td>0.164455</td>\n",
       "      <td>0.221486</td>\n",
       "      <td>0.070669</td>\n",
       "      <td>0.153625</td>\n",
       "      <td>0.164191</td>\n",
       "      <td>0.269389</td>\n",
       "      <td>0.291097</td>\n",
       "      <td>0.093572</td>\n",
       "      <td>0.145321</td>\n",
       "    </tr>\n",
       "    <tr>\n",
       "      <th>2</th>\n",
       "      <td>0.027283</td>\n",
       "      <td>1.000000</td>\n",
       "      <td>0.00000</td>\n",
       "      <td>0.003726</td>\n",
       "      <td>0.016614</td>\n",
       "      <td>0.025333</td>\n",
       "      <td>0.027585</td>\n",
       "      <td>0.027257</td>\n",
       "      <td>0.000000</td>\n",
       "      <td>0.067445</td>\n",
       "      <td>...</td>\n",
       "      <td>0.202671</td>\n",
       "      <td>0.016866</td>\n",
       "      <td>0.011997</td>\n",
       "      <td>0.000000</td>\n",
       "      <td>0.000000</td>\n",
       "      <td>0.028429</td>\n",
       "      <td>0.012948</td>\n",
       "      <td>0.046211</td>\n",
       "      <td>0.027565</td>\n",
       "      <td>0.102427</td>\n",
       "    </tr>\n",
       "    <tr>\n",
       "      <th>3</th>\n",
       "      <td>0.059720</td>\n",
       "      <td>0.000000</td>\n",
       "      <td>1.00000</td>\n",
       "      <td>0.002251</td>\n",
       "      <td>0.005020</td>\n",
       "      <td>0.003936</td>\n",
       "      <td>0.000000</td>\n",
       "      <td>0.004941</td>\n",
       "      <td>0.000000</td>\n",
       "      <td>0.000000</td>\n",
       "      <td>...</td>\n",
       "      <td>0.005048</td>\n",
       "      <td>0.004892</td>\n",
       "      <td>0.024992</td>\n",
       "      <td>0.000000</td>\n",
       "      <td>0.010694</td>\n",
       "      <td>0.012993</td>\n",
       "      <td>0.019247</td>\n",
       "      <td>0.021128</td>\n",
       "      <td>0.000000</td>\n",
       "      <td>0.032119</td>\n",
       "    </tr>\n",
       "  </tbody>\n",
       "</table>\n",
       "<p>3 rows × 610 columns</p>\n",
       "</div>"
      ],
      "text/plain": [
       "userId       1         2        3         4         5         6         7    \\\n",
       "userId                                                                        \n",
       "1       1.000000  0.027283  0.05972  0.194395  0.129080  0.128152  0.158744   \n",
       "2       0.027283  1.000000  0.00000  0.003726  0.016614  0.025333  0.027585   \n",
       "3       0.059720  0.000000  1.00000  0.002251  0.005020  0.003936  0.000000   \n",
       "\n",
       "userId       8         9         10   ...       601       602       603  \\\n",
       "userId                                ...                                 \n",
       "1       0.136968  0.064263  0.016875  ...  0.080554  0.164455  0.221486   \n",
       "2       0.027257  0.000000  0.067445  ...  0.202671  0.016866  0.011997   \n",
       "3       0.004941  0.000000  0.000000  ...  0.005048  0.004892  0.024992   \n",
       "\n",
       "userId       604       605       606       607       608       609       610  \n",
       "userId                                                                        \n",
       "1       0.070669  0.153625  0.164191  0.269389  0.291097  0.093572  0.145321  \n",
       "2       0.000000  0.000000  0.028429  0.012948  0.046211  0.027565  0.102427  \n",
       "3       0.000000  0.010694  0.012993  0.019247  0.021128  0.000000  0.032119  \n",
       "\n",
       "[3 rows x 610 columns]"
      ]
     },
     "execution_count": 13,
     "metadata": {},
     "output_type": "execute_result"
    }
   ],
   "source": [
    "user_similarity_df.head(3)"
   ]
  },
  {
   "cell_type": "markdown",
   "id": "6c6666ec-f06c-4f77-8eb8-d55b114ea46e",
   "metadata": {},
   "source": [
    "## Reccommend items for a user "
   ]
  },
  {
   "cell_type": "code",
   "execution_count": 14,
   "id": "916c70f6-ffc9-4775-a8cb-23f7d748a660",
   "metadata": {
    "tags": []
   },
   "outputs": [],
   "source": [
    "user_id = 1"
   ]
  },
  {
   "cell_type": "markdown",
   "id": "39438ef8-6375-4d5b-8fb9-34dbbe4262ff",
   "metadata": {},
   "source": [
    "### Sort similar users based on cosine similarity "
   ]
  },
  {
   "cell_type": "code",
   "execution_count": 15,
   "id": "f88e500b-f0ac-4fec-b361-87a8ea30e8ac",
   "metadata": {
    "tags": []
   },
   "outputs": [
    {
     "data": {
      "text/plain": [
       "Int64Index([266, 313, 368,  57,  91, 469,  39, 288, 452,  45,\n",
       "            ...\n",
       "            184, 245, 358, 496, 397, 578, 506, 175, 556, 306],\n",
       "           dtype='int64', name='userId', length=609)"
      ]
     },
     "execution_count": 15,
     "metadata": {},
     "output_type": "execute_result"
    }
   ],
   "source": [
    "similar_users = user_similarity_df.loc[user_id].sort_values(ascending=False).index[1:]\n",
    "similar_users"
   ]
  },
  {
   "cell_type": "markdown",
   "id": "043e06e6-9dff-45fc-a542-2fad0f3fa5e3",
   "metadata": {},
   "source": [
    "### Define vector user_ratings of user_id"
   ]
  },
  {
   "cell_type": "code",
   "execution_count": 16,
   "id": "384f524a-76c3-4b64-8b30-7e2cff82d065",
   "metadata": {
    "tags": []
   },
   "outputs": [
    {
     "name": "stdout",
     "output_type": "stream",
     "text": [
      "title\n",
      "'71 (2014)                                   0.0\n",
      "'Hellboy': The Seeds of Creation (2004)      0.0\n",
      "'Round Midnight (1986)                       0.0\n",
      "'Salem's Lot (2004)                          0.0\n",
      "'Til There Was You (1997)                    0.0\n",
      "                                            ... \n",
      "eXistenZ (1999)                              0.0\n",
      "xXx (2002)                                   0.0\n",
      "xXx: State of the Union (2005)               0.0\n",
      "¡Three Amigos! (1986)                        4.0\n",
      "À nous la liberté (Freedom for Us) (1931)    0.0\n",
      "Name: 1, Length: 9719, dtype: float64\n"
     ]
    }
   ],
   "source": [
    "user_ratings = user_movie_ratings.loc[user_id]\n",
    "print(user_ratings)"
   ]
  },
  {
   "cell_type": "markdown",
   "id": "2d2ab3f4-0ef7-471a-b8e1-b05fffe84817",
   "metadata": {},
   "source": [
    "### Create list of top 10 reccomend moviess with the order of other similar users \n",
    "\n",
    "- select the movies with rating > 3 and\n",
    "\n",
    "- user never rating (user_ratings==0)\n"
   ]
  },
  {
   "cell_type": "code",
   "execution_count": 17,
   "id": "8f124c1d-6eee-4bc3-8f52-cdcc37f214e5",
   "metadata": {
    "tags": []
   },
   "outputs": [
    {
     "data": {
      "text/plain": [
       "['2001: A Space Odyssey (1968)',\n",
       " 'Fisher King, The (1991)',\n",
       " 'Hard-Boiled (Lat sau san taam) (1992)',\n",
       " 'Aliens (1986)',\n",
       " 'Hunt for Red October, The (1990)',\n",
       " 'Producers, The (1968)',\n",
       " 'Raising Arizona (1987)',\n",
       " 'Real Genius (1985)',\n",
       " 'Ref, The (1994)',\n",
       " 'Roger & Me (1989)']"
      ]
     },
     "execution_count": 17,
     "metadata": {},
     "output_type": "execute_result"
    }
   ],
   "source": [
    "recommendations = []\n",
    "for other_user in similar_users:\n",
    "    other_user_ratings = user_movie_ratings.loc[other_user]\n",
    "\n",
    "    movies_rating = other_user_ratings[(other_user_ratings >3) & (user_ratings==0)]  \n",
    "    movies = movies_rating.sort_values(ascending=False).index\n",
    "    recommendations.extend(movies)\n",
    "    if len(recommendations)>10:\n",
    "        break;\n",
    "\n",
    "recommendations[:10] "
   ]
  },
  {
   "cell_type": "code",
   "execution_count": null,
   "id": "fd7e06ae-f618-4f7e-8b3f-54896932f6f5",
   "metadata": {
    "tags": []
   },
   "outputs": [],
   "source": []
  },
  {
   "cell_type": "markdown",
   "id": "65a254c2-c77e-4a5f-9db9-5e484da7a10d",
   "metadata": {
    "tags": [],
    "toc-hr-collapsed": true
   },
   "source": [
    "## Define Function for Recommendation and Write as file "
   ]
  },
  {
   "cell_type": "code",
   "execution_count": 18,
   "id": "3fd07977-ebba-4d12-bbfc-04ea4bad3970",
   "metadata": {
    "tags": []
   },
   "outputs": [
    {
     "name": "stdout",
     "output_type": "stream",
     "text": [
      "Writing myfunction_65130701726.py\n"
     ]
    }
   ],
   "source": [
    "%%writefile myfunction_65130701726.py\n",
    "# Function to get movie recommendations for a user\n",
    "def get_movie_recommendations(user_id, user_similarity_df, user_movie_ratings, n_recommendations):\n",
    "    similar_users = user_similarity_df.loc[user_id].sort_values(ascending=False).index[1:]\n",
    "    user_ratings = user_movie_ratings.loc[user_id]\n",
    "    \n",
    "    recommendations = []\n",
    "    for other_user in similar_users:\n",
    "        other_user_ratings = user_movie_ratings.loc[other_user]\n",
    "\n",
    "        movies_rating = other_user_ratings[(other_user_ratings > 3) & (user_ratings == 0)]\n",
    "        movies = movies_rating.sort_values(ascending=False).index\n",
    "        recommendations.extend(movies)\n",
    "        if len(recommendations) > n_recommendations:\n",
    "            break;\n",
    "\n",
    "    return recommendations[:n_recommendations]  # Return top n recommendations\n",
    "\n"
   ]
  },
  {
   "cell_type": "code",
   "execution_count": null,
   "id": "f9d6acec-02c9-434c-bd5e-3d51526ff1d0",
   "metadata": {},
   "outputs": [],
   "source": []
  },
  {
   "cell_type": "markdown",
   "id": "0b689a4c-4761-4754-bbe9-1f57fc75f2b1",
   "metadata": {
    "tags": []
   },
   "source": [
    "## Save Recommendation Data: user_similarity_df, user_movie_ratings"
   ]
  },
  {
   "cell_type": "code",
   "execution_count": 19,
   "id": "1da5b2a9-9156-4572-9e46-203f6a2950ca",
   "metadata": {
    "tags": []
   },
   "outputs": [],
   "source": [
    "import pickle\n",
    "\n",
    "# Assuming you already have user_similarity_df and user_movie_ratings defined\n",
    "\n",
    "# Save data to a file\n",
    "with open('recommendation_data_65130701726.pkl', 'wb') as file:\n",
    "    data_to_save = [user_similarity_df, user_movie_ratings]\n",
    "    pickle.dump(data_to_save, file)"
   ]
  },
  {
   "cell_type": "markdown",
   "id": "4004a729-8a38-4b23-90d2-81a3e1dc95ad",
   "metadata": {
    "tags": []
   },
   "source": [
    "## Import the defined function and Load Recommendation Data\n",
    "\n",
    "Runtime - > Restart runtime "
   ]
  },
  {
   "cell_type": "code",
   "execution_count": 1,
   "id": "fdd06ae2-243b-44f0-b16c-6a866c8e3a79",
   "metadata": {
    "tags": []
   },
   "outputs": [],
   "source": [
    "from myfunction_65130701726 import get_movie_recommendations\n",
    "import pickle"
   ]
  },
  {
   "cell_type": "code",
   "execution_count": 2,
   "id": "1b626d99-88cb-4104-a494-911c84d91f53",
   "metadata": {
    "tags": []
   },
   "outputs": [],
   "source": [
    "# Load data back from the file\n",
    "with open('recommendation_data_65130701726.pkl', 'rb') as file:\n",
    "    user_similarity_df, user_movie_ratings = pickle.load(file)"
   ]
  },
  {
   "cell_type": "code",
   "execution_count": 3,
   "id": "870ccb6b-a7fe-4a10-9040-d5e32e6e8c49",
   "metadata": {
    "tags": []
   },
   "outputs": [
    {
     "name": "stdout",
     "output_type": "stream",
     "text": [
      "Top 10 movie recommendations for User {user_id}:\n",
      "          2001: A Space Odyssey (1968)\n",
      "          Fisher King, The (1991)\n",
      "          Hard-Boiled (Lat sau san taam) (1992)\n",
      "          Aliens (1986)\n",
      "          Hunt for Red October, The (1990)\n",
      "          Producers, The (1968)\n",
      "          Raising Arizona (1987)\n",
      "          Real Genius (1985)\n",
      "          Ref, The (1994)\n",
      "          Roger & Me (1989)\n"
     ]
    }
   ],
   "source": [
    "# Example: Get recommendations for a user\n",
    "user_id = 1\n",
    "recommendations = get_movie_recommendations(user_id, user_similarity_df, user_movie_ratings, 10)\n",
    "\n",
    "print(\"Top 10 movie recommendations for User {user_id}:\")\n",
    "for movie_title in recommendations:\n",
    "    print(\"          \" + movie_title)"
   ]
  },
  {
   "cell_type": "markdown",
   "id": "195b1d34-67ac-4994-a9ad-1cefc1614fc5",
   "metadata": {
    "tags": []
   },
   "source": [
    "## Movie Recommendation as WebApp using Streamlit"
   ]
  },
  {
   "cell_type": "code",
   "execution_count": 4,
   "id": "a8092087-7a15-4ce7-a040-a5cf78a3c674",
   "metadata": {
    "tags": []
   },
   "outputs": [
    {
     "name": "stdout",
     "output_type": "stream",
     "text": [
      "Writing app_strl.py\n"
     ]
    }
   ],
   "source": [
    "%%writefile app_strl.py\n",
    "from myfunction_65130701726 import get_movie_recommendations\n",
    "import streamlit as st\n",
    "import pandas as pd\n",
    "import pickle\n",
    "\n",
    "# Load your data\n",
    "with open('recommendation_data_65130701726.pkl', 'rb') as file:\n",
    "    user_similarity_df, user_movie_ratings = pickle.load(file)\n",
    "\n",
    "\n",
    "# Streamlit app\n",
    "def main():\n",
    "    st.title(\"Movie Recommendation\")\n",
    "\n",
    "    # User input\n",
    "    user_id = st.number_input(\"Enter User ID:\", min_value=0, max_value=user_similarity_df.shape[0]-1, value=0)\n",
    "    n_recommendations = st.slider(\"Number of Recommendations:\", min_value=1, max_value=10, value=5)\n",
    "\n",
    "    # Generate recommendations on button click\n",
    "    if st.button(\"Get Recommendations\"):\n",
    "        if user_id in user_similarity_df.index: \n",
    "            recommendations = get_movie_recommendations(user_id, user_similarity_df, user_movie_ratings, n_recommendations)\n",
    "            st.write(f\"Top {n_recommendations} Movie Recommendations for User {user_id}:\", recommendations)\n",
    "        else: \n",
    "            st.write(f\" Movie Recommendations for User {user_id}: is not available.\")\n",
    "\n",
    "if __name__ == '__main__':\n",
    "    main()\n"
   ]
  },
  {
   "cell_type": "markdown",
   "id": "d353539b-d860-439e-a330-bd28ac72bc82",
   "metadata": {
    "tags": []
   },
   "source": [
    "## Deploy on Streamlit Sharing\n",
    "\n",
    "https://share.streamlit.io/\n",
    "\n",
    "https://docs.streamlit.io/library/api-reference\n",
    "\n",
    "https://github.com/\n",
    "\n"
   ]
  },
  {
   "cell_type": "code",
   "execution_count": 5,
   "id": "fb554c43-9d12-41fa-bc9b-91a12e49789f",
   "metadata": {
    "tags": []
   },
   "outputs": [
    {
     "name": "stdout",
     "output_type": "stream",
     "text": [
      "Writing requirements.txt\n"
     ]
    }
   ],
   "source": [
    "%%writefile requirements.txt\n",
    "\n",
    "scikit-learn==1.2.2\n",
    "pandas\n",
    " "
   ]
  },
  {
   "cell_type": "code",
   "execution_count": null,
   "id": "2aef72d9-e11f-466e-97b7-e4054bbbf488",
   "metadata": {},
   "outputs": [],
   "source": []
  },
  {
   "cell_type": "markdown",
   "id": "4c0da680-2139-448e-9e75-ce904219c149",
   "metadata": {
    "tags": []
   },
   "source": [
    "# SVD  for recommender systems"
   ]
  },
  {
   "cell_type": "markdown",
   "id": "1ad2acae-a668-4727-976a-0a499b825219",
   "metadata": {},
   "source": [
    "<div>\n",
    "\n",
    "<img src=\"data:image/png;base64,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\" width=\"600\"/> \n",
    " <br>\n",
    "<img src=\"data:image/png;base64,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\" width=\"700\"/> \n",
    "\n",
    "    \n",
    "</div>\n",
    "\n"
   ]
  },
  {
   "cell_type": "markdown",
   "id": "88c7ed0d-3758-426f-a8dc-fc24aa668e72",
   "metadata": {},
   "source": [
    "<div>\n",
    "<img src=\"https://eugeneyan.com/assets/og_image/matrix-factorization.jpg\" width=\"700\"/> \n",
    " <br>\n",
    "<img src=\"https://miro.medium.com/v2/resize:fit:4800/format:webp/1*b4M7o7W8bfRRxdMxtFoVBQ.png\" width=\"700\"/> \n",
    "    \n",
    "</div>"
   ]
  },
  {
   "cell_type": "code",
   "execution_count": null,
   "id": "b59751e9-59eb-46a2-bd0b-dca93bf77d7f",
   "metadata": {},
   "outputs": [],
   "source": [
    "import pandas as pd\n",
    "from surprise import Dataset, Reader\n",
    "from surprise.model_selection import train_test_split\n",
    "from surprise import SVD\n",
    "from surprise import accuracy\n",
    "\n",
    "# Load the MovieLens dataset (ml-latest-small)\n",
    "movies = pd.read_csv('ml-latest-small/movies.csv')\n",
    "ratings = pd.read_csv('ml-latest-small/ratings.csv')\n",
    "\n",
    "# Merge movies and ratings data\n",
    "movie_ratings = pd.merge(ratings, movies, on='movieId')\n",
    "\n",
    "# Create a Surprise Reader\n",
    "reader = Reader(rating_scale=(1, 5))\n",
    "\n",
    "# Load the data into Surprise Dataset\n",
    "data = Dataset.load_from_df(movie_ratings[['userId', 'movieId', 'rating']], reader)\n",
    "\n",
    "# Split the data into training and testing sets\n",
    "trainset, testset = train_test_split(data, test_size=0.2, random_state=42)\n",
    "\n",
    "# Use the SVD algorithm\n",
    "svd = SVD()\n",
    "\n",
    "# Train the algorithm on the training set\n",
    "svd.fit(trainset)\n",
    "\n",
    "# Make predictions on the test set\n",
    "predictions = svd.test(testset)\n",
    "\n",
    "# Evaluate the predictions using RMSE (Root Mean Squared Error)\n",
    "rmse = accuracy.rmse(predictions)\n",
    "print(f\"RMSE on the test set: {rmse}\")\n",
    "\n",
    "# Get recommendations for a specific user\n",
    "user_id = 1\n",
    "user_movies = movie_ratings[movie_ratings['userId'] == user_id]['movieId'].unique()\n",
    "\n",
    "# Filter out movies the user has already rated\n",
    "unrated_movies = movies[~movies['movieId'].isin(user_movies)]['movieId']\n",
    "\n",
    "# Make predictions for unrated movies\n",
    "user_predictions = [svd.predict(user_id, movie_id) for movie_id in unrated_movies]\n",
    "\n",
    "# Sort predictions by estimated rating in descending order\n",
    "sorted_predictions = sorted(user_predictions, key=lambda x: x.est, reverse=True)\n",
    "\n",
    "# Get top 10 movie recommendations\n",
    "top_recommendations = sorted_predictions[:10]\n",
    "\n",
    "# Print top recommendations\n",
    "print(f\"\\nTop 10 movie recommendations for User {user_id}:\")\n",
    "for recommendation in top_recommendations:\n",
    "    movie_title = movies[movies['movieId'] == recommendation.iid]['title'].values[0]\n",
    "    print(f\"{movie_title} (Estimated Rating: {recommendation.est})\")\n"
   ]
  },
  {
   "cell_type": "code",
   "execution_count": null,
   "id": "f0add401-aa72-4d8b-9f65-838230948e44",
   "metadata": {
    "tags": []
   },
   "outputs": [],
   "source": [
    "svd.pu.shape"
   ]
  },
  {
   "cell_type": "code",
   "execution_count": null,
   "id": "e79bfa3d-87c8-499c-ae80-401641a27a0c",
   "metadata": {},
   "outputs": [],
   "source": [
    "svd.qi.shape"
   ]
  },
  {
   "cell_type": "code",
   "execution_count": null,
   "id": "3ff3a98b-7d9e-49e9-832c-cc8d1d9681de",
   "metadata": {},
   "outputs": [],
   "source": []
  }
 ],
 "metadata": {
  "kernelspec": {
   "display_name": "Python 3 (ipykernel)",
   "language": "python",
   "name": "python3"
  },
  "language_info": {
   "codemirror_mode": {
    "name": "ipython",
    "version": 3
   },
   "file_extension": ".py",
   "mimetype": "text/x-python",
   "name": "python",
   "nbconvert_exporter": "python",
   "pygments_lexer": "ipython3",
   "version": "3.10.9"
  }
 },
 "nbformat": 4,
 "nbformat_minor": 5
}
